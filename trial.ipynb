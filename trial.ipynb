{
 "cells": [
  {
   "cell_type": "code",
   "execution_count": null,
   "metadata": {},
   "outputs": [],
   "source": [
    "neighbours_id = {67278ed5b6d9426b79cc0798: 0.2616109966509563,\n",
    "672783dcfa8bda76a075490e: 0.18509949276637142,\n",
    "6727725c82a0671288a3f185: 0.18547715247858637\n",
    "​\n",
    "6727825d14f2ee020439480a: 0.1834975653706792\n",
    "​\n",
    "6727843108352d2fdf8e8c77: 0.1843147927334068}"
   ]
  },
  {
   "cell_type": "code",
   "execution_count": null,
   "metadata": {},
   "outputs": [],
   "source": []
  }
 ],
 "metadata": {
  "kernelspec": {
   "display_name": "insideout",
   "language": "python",
   "name": "python3"
  },
  "language_info": {
   "name": "python",
   "version": "3.11.10"
  }
 },
 "nbformat": 4,
 "nbformat_minor": 2
}
